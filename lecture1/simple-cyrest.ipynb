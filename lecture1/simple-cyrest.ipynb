{
 "cells": [
  {
   "cell_type": "code",
   "execution_count": null,
   "metadata": {
    "collapsed": false
   },
   "outputs": [],
   "source": [
    "from py2cytoscape.data.cyrest_client import CyRestClient\n",
    "from IPython.display import Image\n",
    "\n",
    "cy = CyRestClient()\n",
    "yeast_net = cy.network.create_from('http://chianti.ucsd.edu/~kono/data/galFiltered.sif')\n",
    "net_svg = yeast_net.get_png()\n",
    "Image(net_svg)"
   ]
  }
 ],
 "metadata": {
  "kernelspec": {
   "display_name": "Python 3",
   "language": "python",
   "name": "python3"
  },
  "language_info": {
   "codemirror_mode": {
    "name": "ipython",
    "version": 3
   },
   "file_extension": ".py",
   "mimetype": "text/x-python",
   "name": "python",
   "nbconvert_exporter": "python",
   "pygments_lexer": "ipython3",
   "version": "3.5.1"
  }
 },
 "nbformat": 4,
 "nbformat_minor": 0
}
